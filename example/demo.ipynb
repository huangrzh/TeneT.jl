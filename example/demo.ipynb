{
 "cells": [
  {
   "cell_type": "markdown",
   "metadata": {},
   "source": [
    "instantiate package"
   ]
  },
  {
   "cell_type": "code",
   "execution_count": 6,
   "metadata": {},
   "outputs": [
    {
     "name": "stderr",
     "output_type": "stream",
     "text": [
      "\u001b[32m\u001b[1m  Activating\u001b[22m\u001b[39m project at `~/Physics/TeneT/TeneT.jl`\n"
     ]
    }
   ],
   "source": [
    "using Pkg\n",
    "Pkg.activate(\"../\")\n",
    "Pkg.instantiate()\n",
    "using TeneT,Optim,Random,Zygote,TensorOperations,JLD2\n"
   ]
  },
  {
   "cell_type": "code",
   "execution_count": 67,
   "metadata": {},
   "outputs": [
    {
     "name": "stdout",
     "output_type": "stream",
     "text": [
      "↑ vumps 1×1 environment load from ./data/1x1/up_D4_χ10.jld2 -> vumps done@step: 1, error=1.559017910074626e-11\n",
      "←→ observable environment load from ./data/1x1/obs_D4_χ10.jld2\n",
      "↓ vumps 1×1 environment load from ./data/1x1/down_D4_χ10.jld2 -> vumps done@step: 1, error=3.022288881887699e-12\n",
      "energy(h, A, oc, key; verbose = true, savefile = true) = -0.47401750293916006 - 2.3986972880427063e-12im\n",
      "\u001b[31m\u001b[1mi =     0\tt = 0.00\tenergy = -0.474017502939458 \tgnorm = 5.475e-02\u001b[22m\u001b[39m\n",
      "\u001b[31m\u001b[1mi =     1\tt = 0.73\tenergy = -0.515791202535427 \tgnorm = 1.481e-02\u001b[22m\u001b[39m\n",
      "\u001b[31m\u001b[1mi =     2\tt = 2.09\tenergy = -0.567332508886989 \tgnorm = 4.198e-02\u001b[22m\u001b[39m\n",
      "\u001b[31m\u001b[1mi =     3\tt = 4.26\tenergy = -0.582384433180080 \tgnorm = 5.338e-02\u001b[22m\u001b[39m\n",
      "\u001b[31m\u001b[1mi =     4\tt = 6.19\tenergy = -0.613094225497393 \tgnorm = 4.847e-02\u001b[22m\u001b[39m\n",
      "\u001b[31m\u001b[1mi =     5\tt = 7.51\tenergy = -0.637552277174880 \tgnorm = 1.491e-02\u001b[22m\u001b[39m\n",
      "\u001b[31m\u001b[1mi =     6\tt = 9.19\tenergy = -0.644442451136739 \tgnorm = 1.143e-02\u001b[22m\u001b[39m\n",
      "\u001b[31m\u001b[1mi =     7\tt = 10.61\tenergy = -0.652919183631970 \tgnorm = 8.525e-03\u001b[22m\u001b[39m\n",
      "\u001b[31m\u001b[1mi =     8\tt = 11.73\tenergy = -0.657810518943560 \tgnorm = 5.268e-03\u001b[22m\u001b[39m\n",
      "\u001b[31m\u001b[1mi =     9\tt = 12.63\tenergy = -0.659250326307428 \tgnorm = 2.437e-03\u001b[22m\u001b[39m\n",
      "\u001b[31m\u001b[1mi =    10\tt = 13.65\tenergy = -0.659652927094925 \tgnorm = 1.515e-03\u001b[22m\u001b[39m\n",
      "\u001b[31m\u001b[1mi =    11\tt = 14.32\tenergy = -0.659907594785006 \tgnorm = 1.326e-03\u001b[22m\u001b[39m\n",
      "\u001b[31m\u001b[1mi =    12\tt = 16.47\tenergy = -0.660031716730662 \tgnorm = 8.157e-04\u001b[22m\u001b[39m\n",
      "\u001b[31m\u001b[1mi =    13\tt = 17.40\tenergy = -0.660121662120172 \tgnorm = 1.001e-03\u001b[22m\u001b[39m\n",
      "\u001b[31m\u001b[1mi =    14\tt = 18.03\tenergy = -0.660244814934056 \tgnorm = 8.087e-04\u001b[22m\u001b[39m\n",
      "\u001b[31m\u001b[1mi =    15\tt = 18.59\tenergy = -0.660316751756932 \tgnorm = 8.042e-04\u001b[22m\u001b[39m\n",
      "\u001b[31m\u001b[1mi =    16\tt = 19.18\tenergy = -0.660378119502861 \tgnorm = 5.616e-04\u001b[22m\u001b[39m\n",
      "\u001b[31m\u001b[1mi =    17\tt = 19.80\tenergy = -0.660463750796083 \tgnorm = 6.941e-04\u001b[22m\u001b[39m\n",
      "\u001b[31m\u001b[1mi =    18\tt = 20.43\tenergy = -0.660592190892965 \tgnorm = 1.021e-03\u001b[22m\u001b[39m\n",
      "\u001b[31m\u001b[1mi =    19\tt = 21.22\tenergy = -0.660863687843499 \tgnorm = 1.523e-03\u001b[22m\u001b[39m\n",
      "\u001b[31m\u001b[1mi =    20\tt = 22.48\tenergy = -0.661214486428729 \tgnorm = 1.450e-03\u001b[22m\u001b[39m\n"
     ]
    },
    {
     "data": {
      "text/plain": [
       " * Status: failure (reached maximum number of iterations)\n",
       "\n",
       " * Candidate solution\n",
       "    Final objective value:     -6.612145e-01\n",
       "\n",
       " * Found with\n",
       "    Algorithm:     L-BFGS\n",
       "\n",
       " * Convergence measures\n",
       "    |x - x'|               = 2.15e-01 ≰ 0.0e+00\n",
       "    |x - x'|/|x'|          = 8.37e-02 ≰ 0.0e+00\n",
       "    |f(x) - f(x')|         = 3.51e-04 ≰ 0.0e+00\n",
       "    |f(x) - f(x')|/|f(x')| = 5.31e-04 ≰ 1.0e-06\n",
       "    |g(x)|                 = 1.45e-03 ≰ 1.0e-08\n",
       "\n",
       " * Work counters\n",
       "    Seconds run:   22  (vs limit Inf)\n",
       "    Iterations:    20\n",
       "    f(x) calls:    63\n",
       "    ∇f(x) calls:   63\n"
      ]
     },
     "metadata": {},
     "output_type": "display_data"
    }
   ],
   "source": [
    "include(\"./get_gs.jl\")\n",
    "\n",
    "Ni = 1\n",
    "Nj = 1\n",
    "D = 2\n",
    "χ = 10\n",
    "\n",
    "Sx = Float64[0 1; 1 0]/2\n",
    "Sy = ComplexF64[0 -1im; 1im 0]/2\n",
    "Sz = Float64[1 0; 0 -1]/2\n",
    "f(oi,oj) = @tensor oij[-1 -2 -3 -4] := oi[-1 -2]*oj[-3 -4]\n",
    "h = f(Sx,-Sx) + f(Sy,Sy) + f(Sz,-Sz)\n",
    "\n",
    "\n",
    "folder = joinpath(\"./data/\", \"$(Ni)x$(Nj)/\")\n",
    "mkpath(folder)\n",
    "#A = rand(ComplexF64,D,D,D,D,2,Ni,Nj)\n",
    "A = load_object(\"A.jld2\")\n",
    "key = (folder, atype=Array, Ni, Nj, D, χ, tol=1e-10, maxiter=10, miniter=1, verbose=false)\n",
    "oc = optcont()\n",
    "\n",
    "\n",
    "@show energy(h, A, oc, key; verbose = true, savefile = true)\n",
    "oc = optcont()\n",
    "f(x) = real(energy(h, x, oc, key))\n",
    "g(x) = Zygote.gradient(f,x)[1]\n",
    "#g(A)\n",
    "optimise_ipeps(A, h, key; f_tol = 1e-6, opiter = 20, optimmethod = LBFGS(m = 20))\n"
   ]
  },
  {
   "cell_type": "code",
   "execution_count": 38,
   "metadata": {},
   "outputs": [
    {
     "name": "stdout",
     "output_type": "stream",
     "text": [
      "f(A) = 509.5811864777627\n"
     ]
    },
    {
     "data": {
      "text/plain": [
       "Array{ComplexF64, 4}"
      ]
     },
     "metadata": {},
     "output_type": "display_data"
    }
   ],
   "source": [
    "@show f(A)\n",
    "typeof(A)\n",
    "typeof(h)"
   ]
  },
  {
   "cell_type": "code",
   "execution_count": 40,
   "metadata": {},
   "outputs": [
    {
     "data": {
      "text/plain": [
       "2×2×2×2×2×1×1 Array{ComplexF64, 7}:\n",
       "[:, :, 1, 1, 1, 1, 1] =\n",
       "  40.909+57.6212im   9.9667+26.1367im\n",
       " 62.0116+89.3203im  42.4469+24.978im\n",
       "\n",
       "[:, :, 2, 1, 1, 1, 1] =\n",
       " 69.6528+43.1057im  38.9985+18.5233im\n",
       " 39.8168+66.2689im   19.208+10.0661im\n",
       "\n",
       "[:, :, 1, 2, 1, 1, 1] =\n",
       " 82.1841+58.2287im  65.9928+86.5769im\n",
       " 60.4482+46.6909im  55.9805+74.7194im\n",
       "\n",
       "[:, :, 2, 2, 1, 1, 1] =\n",
       " 41.2321+45.3179im  35.7345+81.3581im\n",
       " 23.4916+17.4821im   74.514+77.1554im\n",
       "\n",
       "[:, :, 1, 1, 2, 1, 1] =\n",
       " 25.4435+6.89217im  41.5098+14.6916im\n",
       " 34.6851+79.9631im  4.22044+76.5923im\n",
       "\n",
       "[:, :, 2, 1, 2, 1, 1] =\n",
       " 5.43137+89.131im    50.423+34.9489im\n",
       " 52.2575+83.2849im  85.3101+32.3914im\n",
       "\n",
       "[:, :, 1, 2, 2, 1, 1] =\n",
       " 58.9368+31.3292im  17.2907+81.6929im\n",
       " 24.4852+81.7243im  10.1201+41.9296im\n",
       "\n",
       "[:, :, 2, 2, 2, 1, 1] =\n",
       "  43.299+84.4842im  44.4344+45.9124im\n",
       " 33.5497+88.1784im  3.00938+5.29713im"
      ]
     },
     "metadata": {},
     "output_type": "display_data"
    }
   ],
   "source": [
    "g(A)"
   ]
  },
  {
   "cell_type": "code",
   "execution_count": null,
   "metadata": {},
   "outputs": [],
   "source": []
  }
 ],
 "metadata": {
  "kernelspec": {
   "display_name": "Julia 1.10.4",
   "language": "julia",
   "name": "julia-1.10"
  },
  "language_info": {
   "file_extension": ".jl",
   "mimetype": "application/julia",
   "name": "julia",
   "version": "1.10.4"
  },
  "orig_nbformat": 4
 },
 "nbformat": 4,
 "nbformat_minor": 2
}
